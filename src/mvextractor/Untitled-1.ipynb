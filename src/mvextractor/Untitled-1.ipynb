{
 "cells": [
  {
   "cell_type": "code",
   "execution_count": null,
   "metadata": {},
   "outputs": [],
   "source": [
    "import numpy as np\n",
    "\n",
    "# Charger un fichier .npy\n",
    "data = np.load('BBB MPEG4/motion_vectors/mvs-0.npy')\n",
    "\n",
    "# Afficher le contenu\n",
    "print(data)"
   ]
  }
 ],
 "metadata": {
  "language_info": {
   "name": "python"
  }
 },
 "nbformat": 4,
 "nbformat_minor": 2
}
