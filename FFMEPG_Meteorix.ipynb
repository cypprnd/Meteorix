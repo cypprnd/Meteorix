{
 "cells": [
  {
   "cell_type": "markdown",
   "id": "664b3b98-f2b0-4403-9643-a9360233ac0e",
   "metadata": {},
   "source": [
    "# Utilisation de ffmpeg dans le projet Meteorix"
   ]
  },
  {
   "cell_type": "markdown",
   "id": "37ca448d-016e-4820-8404-4201e327102f",
   "metadata": {},
   "source": [
    "### Objectif\n",
    "\n",
    "Notre objectif est d'adresser une puce matérielle pour encoder une vidéo à partir d'images brutes. En effet, sur le nano-satellite nous aurons uniquement une puce pour faire l'encodage de la vidéo. Pour tester cela nous allons utiliser FFMPEG avec différentes options pour voir comment sont encodés les images."
   ]
  },
  {
   "cell_type": "markdown",
   "id": "e02f8edc-7bcc-461a-a582-8ed3b7821981",
   "metadata": {},
   "source": [
    "### 1.Transformer une vidéo compressé au format ppm\n",
    "\n",
    "Pour le moment nous avons des vidéos dans des formats compressés, or la caméra du satellite récupère des images au format ppm. Nous voulons donc transformer nos vidéos compressés en image ppm pour ensuite donner ces image à la puce pour qu'elle les compresse.\n",
    "\n",
    "La commande suivante permet de le faire : mkdir -p output_images && ffmpeg -i video.mpg output_images/image%d.ppm\n",
    "\n",
    "Elle stocke aussi toutes les vidéos dans un dossier output"
   ]
  },
  {
   "cell_type": "markdown",
   "id": "8f36bef7",
   "metadata": {
    "vscode": {
     "languageId": "plaintext"
    }
   },
   "source": [
    "### 2. Copier les images sur la machine EM780\n",
    "\n",
    "Nous allons copier les vidéos sur une le disque dur d'une machine qui à les encodeurs similaires à celle que l'on a sur le satellite.\n",
    "\n",
    "Pour se connecter à la machine : ssh em780.mono.lip6.ext\n",
    "\n",
    "Il faut faire les commandes suivantes :\n",
    "- (en local) scp le-fichier-sur-le-mac front.mono.lip6.ext:~/\n",
    "- (sur em780) mv v03.mp4 /scratch/renaudc-nfs\n",
    "Puis on va dans notre dossier cd /scratch/renaudc-nfs pour travailler sur nos dossiers\n",
    "\n",
    "De plus, FFMPEG est déjà installé sur la machine, on pourra donc transférer la vidéo et faire les commandes FFMPEG depuis la machine."
   ]
  },
  {
   "cell_type": "markdown",
   "id": "ee13eb83",
   "metadata": {
    "vscode": {
     "languageId": "plaintext"
    }
   },
   "source": [
    "### 3.Encoder les images ppm\n",
    "- adresser la puce sur le GPU embarqué AMD Radeon 780M\n",
    "- adresser la puce sur le GPU externe NVidia GeForce RTX 3090 (dans ce cas il faut utiliser NVENC)\n",
    "\n",
    "L'option 1 est la meilleure car la puce est sur le SoC, ce qui sera probablement plus proche de la réalité dans un nano-satellite.\n",
    "L'option 2 serai certainement plus facile car NVENC est bien supporté et documenté en général\n",
    "\n",
    "On peut encoder avec la commande : ffmpeg -hwaccel cuda -framerate 30 -i output_images/image%d.ppm -c:v h264_nvenc -preset fast -b:v 5M compressed_video.mp4 -loglevel verbose\n",
    "\n",
    "-hwaccel cuda : Active l'accélération matérielle CUDA pour optimiser le traitement.\n",
    "-c:v h264_nvenc : Utilise NVENC pour encoder la vidéo au format H.264.\n",
    "\n",
    "On peut stocker l'utilisation du GPU avec la première commande\n",
    "nohup watch -n 0.1 nvidia-smi > gpu_usage.log & \n",
    "ffmpeg -hwaccel cuda -i output_images/image%d.ppm -c:v h264_nvenc -preset fast compressed_video.mp4\n",
    "\n"
   ]
  }
 ],
 "metadata": {
  "kernelspec": {
   "display_name": "Python 3 (ipykernel)",
   "language": "python",
   "name": "python3"
  },
  "language_info": {
   "codemirror_mode": {
    "name": "ipython",
    "version": 3
   },
   "file_extension": ".py",
   "mimetype": "text/x-python",
   "name": "python",
   "nbconvert_exporter": "python",
   "pygments_lexer": "ipython3",
   "version": "3.10.12"
  }
 },
 "nbformat": 4,
 "nbformat_minor": 5
}
